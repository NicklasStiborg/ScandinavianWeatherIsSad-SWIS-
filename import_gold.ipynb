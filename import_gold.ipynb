{
 "cells": [
  {
   "cell_type": "markdown",
   "id": "460d181b",
   "metadata": {},
   "source": [
    "# 1. Import libraries and loading config"
   ]
  },
  {
   "cell_type": "code",
   "execution_count": 22,
   "id": "46fabefa",
   "metadata": {},
   "outputs": [],
   "source": [
    "import psycopg2\n",
    "from psycopg2.extensions import ISOLATION_LEVEL_AUTOCOMMIT\n",
    "from dotenv import load_dotenv\n",
    "import os\n",
    "from pyspark.sql import SparkSession\n",
    "import json\n",
    "from pathlib import Path\n",
    "\n",
    "# loading db password from env-file, remember to rename .env_sample and type in database password\n",
    "load_dotenv()\n",
    "pg_password = os.getenv('POSTGRES_PASSWORD') # importing Frost API key\n",
    "\n",
    "#loading config\n",
    "with open(os.getcwd()+\"/config.json\") as f:\n",
    "    config = json.load(f)"
   ]
  },
  {
   "cell_type": "markdown",
   "id": "2fc0e8f0",
   "metadata": {},
   "source": [
    "## 1.1. Connecting and testing database connection"
   ]
  },
  {
   "cell_type": "markdown",
   "id": "a562b5d4",
   "metadata": {},
   "source": [
    "### 1.1.1. Testing database connection"
   ]
  },
  {
   "cell_type": "code",
   "execution_count": 23,
   "id": "4b35d448",
   "metadata": {},
   "outputs": [
    {
     "name": "stdout",
     "output_type": "stream",
     "text": [
      "Connection opened\n",
      "Connected, PostgreSQL version: PostgreSQL 17.5 on x86_64-apple-darwin23.6.0, compiled by Apple clang version 16.0.0 (clang-1600.0.26.6), 64-bit\n",
      "Connection closed\n"
     ]
    }
   ],
   "source": [
    "# modify these to match db connection, currently this is set to a local hosted db\n",
    "dbname = \"postgres\"\n",
    "user = \"postgres\"\n",
    "host = \"localhost\"\n",
    "port = \"5432\"\n",
    "\n",
    "# modify these to desired names\n",
    "station_data_table_name = \"station_data\"\n",
    "weather_reading_data_table_name = \"weather_readings_data\"\n",
    "\n",
    "def conn():\n",
    "    return psycopg2.connect(\n",
    "        dbname=dbname,\n",
    "        user=user,\n",
    "        password=pg_password,\n",
    "        host=host,\n",
    "        port=port\n",
    "    )\n",
    "\n",
    "try: \n",
    "    cursor = conn().cursor()\n",
    "    print(\"Connection opened\")\n",
    "    # checking connection\n",
    "    cursor.execute(\"SELECT version();\")\n",
    "    version = cursor.fetchone()\n",
    "    print(\"Connected, PostgreSQL version:\", version[0])\n",
    "except Exception as e:\n",
    "    print(\"Connection failed:\", e)\n",
    "finally:\n",
    "    conn().close()\n",
    "    cursor.close()\n",
    "    print(\"Connection closed\")"
   ]
  },
  {
   "cell_type": "markdown",
   "id": "7e506476",
   "metadata": {},
   "source": [
    "### 1.1.2. Creating tables in database"
   ]
  },
  {
   "cell_type": "code",
   "execution_count": 24,
   "id": "36fcbe62",
   "metadata": {},
   "outputs": [
    {
     "name": "stdout",
     "output_type": "stream",
     "text": [
      "Connection opened to create station_data\n",
      "Table: 'station_data' created.\n",
      "Connection closed\n",
      "Connection opened to create weather_readings_data\n",
      "Table: 'weather_readings_data' created.\n",
      "Connection closed\n"
     ]
    }
   ],
   "source": [
    "# if connected, create station table if not exists\n",
    "try:\n",
    "    cursor = conn().cursor()\n",
    "    print(\"Connection opened to create \"+ station_data_table_name)\n",
    "    cursor.execute(f\"\"\"\n",
    "        CREATE TABLE IF NOT EXISTS {station_data_table_name} (\n",
    "            id SERIAL PRIMARY KEY,\n",
    "            source_id VARCHAR NOT NULL,\n",
    "            station_name VARCHAR NOT NULL,\n",
    "            country_code VARCHAR NOT NULL,\n",
    "            source VARCHAR NOT NULL\n",
    "        )\n",
    "    \"\"\")\n",
    "    conn().commit()\n",
    "    print(\"Table: 'station_data' created.\")\n",
    "except Exception as e:\n",
    "    print(\"Connection failed:\", e)\n",
    "finally:\n",
    "    conn().close()\n",
    "    cursor.close()\n",
    "    print(\"Connection closed\")\n",
    "\n",
    "# if connected, create weather reading table if not exists\n",
    "try:\n",
    "    cursor = conn().cursor()\n",
    "    print(\"Connection opened to create \"+ weather_reading_data_table_name)\n",
    "    cursor.execute(f\"\"\"\n",
    "        CREATE TABLE IF NOT EXISTS {weather_reading_data_table_name} (\n",
    "            id SERIAL PRIMARY KEY,\n",
    "            source_id VARCHAR NOT NULL,\n",
    "            observed TIMESTAMP NOT NULL,\n",
    "            amount FLOAT NOT NULL,\n",
    "            station_id VARCHAR NOT NULL,\n",
    "            source VARCHAR NOT NULL\n",
    "        )\n",
    "    \"\"\")\n",
    "    conn().commit()\n",
    "    print(\"Table: 'weather_readings_data' created.\")\n",
    "except Exception as e:\n",
    "    print(\"Connection failed:\", e)\n",
    "finally:\n",
    "    conn().close()\n",
    "    cursor.close()\n",
    "    print(\"Connection closed\")"
   ]
  },
  {
   "cell_type": "markdown",
   "id": "5c5e7237",
   "metadata": {},
   "source": [
    "## 1.2. Loading data from silver layer to gold layer"
   ]
  },
  {
   "cell_type": "markdown",
   "id": "eac5f494",
   "metadata": {},
   "source": [
    "### 1.2.1. Station data"
   ]
  },
  {
   "cell_type": "code",
   "execution_count": null,
   "id": "6d62c964",
   "metadata": {},
   "outputs": [
    {
     "name": "stdout",
     "output_type": "stream",
     "text": [
      "Writing DMI data to stations table\n",
      "Wrote to table succesfully\n",
      "Writing Frost data to stations table\n",
      "Wrote to table succesfully\n"
     ]
    }
   ],
   "source": [
    "sd_dmi_loc = os.getcwd() + config['export']['dmiDeltaPathStation']\n",
    "sd_frost_loc = os.getcwd() + config['export']['frostDeltaPathStation']\n",
    "\n",
    "spark =(\n",
    "    SparkSession.builder\n",
    "    .appName('gold_layer_export')\n",
    "    .config(\"spark.jars.packages\", \"org.postgresql:postgresql:42.6.0\")\n",
    "    .getOrCreate()\n",
    ")\n",
    "\n",
    "sd_dmi_df = spark.read.option(\"recursiveFileLookup\", \"true\").parquet(sd_dmi_loc)\n",
    "sd_frost_df = spark.read.option(\"recursiveFileLookup\", \"true\").parquet(sd_frost_loc)\n",
    "\n",
    "try:\n",
    "  print(\"Writing DMI data to stations table\")\n",
    "  sd_dmi_df.write \\\n",
    "    .format(\"jdbc\") \\\n",
    "    .option(\"url\", f\"jdbc:postgresql://{host}:{port}/{dbname}\") \\\n",
    "    .option(\"dbtable\", station_data_table_name) \\\n",
    "    .option(\"user\", user) \\\n",
    "    .option(\"password\", pg_password) \\\n",
    "    .option(\"driver\", \"org.postgresql.Driver\") \\\n",
    "    .mode(\"overwrite\") \\\n",
    "    .save()\n",
    "  print(\"Wrote to table succesfully\")\n",
    "except Exception as e:\n",
    "  print(\"Writing to table failed: \", e)\n",
    "  \n",
    "try:\n",
    "  print(\"Writing Frost data to stations table\")\n",
    "  sd_frost_df.write \\\n",
    "    .format(\"jdbc\") \\\n",
    "    .option(\"url\", f\"jdbc:postgresql://{host}:{port}/{dbname}\") \\\n",
    "    .option(\"dbtable\", station_data_table_name) \\\n",
    "    .option(\"user\", user) \\\n",
    "    .option(\"password\", pg_password) \\\n",
    "    .option(\"driver\", \"org.postgresql.Driver\") \\\n",
    "    .mode(\"append\") \\\n",
    "    .save()\n",
    "  print(\"Wrote to table succesfully\")\n",
    "except Exception as e:\n",
    "  print(\"Writing to table failed: \", e)"
   ]
  },
  {
   "cell_type": "markdown",
   "id": "c9847c6f",
   "metadata": {},
   "source": [
    "### 1.2.2. Weather readings"
   ]
  },
  {
   "cell_type": "code",
   "execution_count": 26,
   "id": "a87dac41",
   "metadata": {},
   "outputs": [
    {
     "name": "stdout",
     "output_type": "stream",
     "text": [
      "Writing DMI data to weather readings table\n",
      "Wrote to table succesfully\n",
      "Writing Frost Met data to weather readings table\n",
      "Wrote to table succesfully\n"
     ]
    }
   ],
   "source": [
    "wr_dmi_loc = os.getcwd() + config['export']['dmiDeltaPathWr']\n",
    "wr_frost_loc = os.getcwd() + config['export']['frostDeltaPathWr']\n",
    "\n",
    "spark =(\n",
    "    SparkSession.builder\n",
    "    .appName('gold_layer_export')\n",
    "    .config(\"spark.jars.packages\", \"org.postgresql:postgresql:42.6.0\")\n",
    "    .getOrCreate()\n",
    ")\n",
    "\n",
    "df_dmi = spark.read.option(\"recursiveFileLookup\", \"true\").parquet(wr_dmi_loc)\n",
    "df_dmi = df_dmi.dropDuplicates([\"id\"])\n",
    "df_dmi = df_dmi.withColumnRenamed(\"id\", \"source_id\")\n",
    "\n",
    "df_frost = spark.read.option(\"recursiveFileLookup\", \"true\").parquet(wr_frost_loc)\n",
    "df_frost = df_frost.dropDuplicates([\"sourceId\"])\n",
    "\n",
    "#mode overwriting for the first df to make sure only the updated data is in db\n",
    "try:\n",
    "  print(\"Writing DMI data to weather readings table\")\n",
    "  df_dmi.write \\\n",
    "    .format(\"jdbc\") \\\n",
    "    .option(\"url\", f\"jdbc:postgresql://{host}:{port}/{dbname}\") \\\n",
    "    .option(\"dbtable\", weather_reading_data_table_name) \\\n",
    "    .option(\"user\", user) \\\n",
    "    .option(\"password\", pg_password) \\\n",
    "    .option(\"driver\", \"org.postgresql.Driver\") \\\n",
    "    .mode(\"overwrite\") \\\n",
    "    .save()\n",
    "  print(\"Wrote to table succesfully\")\n",
    "except Exception as e:\n",
    "  print(\"Writing to table failed: \", e)\n",
    "\n",
    "#appending next df, since the db has already been truncated\n",
    "try:\n",
    "  print(\"Writing Frost Met data to weather readings table\")\n",
    "  df_dmi.write \\\n",
    "    .format(\"jdbc\") \\\n",
    "    .option(\"url\", f\"jdbc:postgresql://{host}:{port}/{dbname}\") \\\n",
    "    .option(\"dbtable\", weather_reading_data_table_name) \\\n",
    "    .option(\"user\", user) \\\n",
    "    .option(\"password\", pg_password) \\\n",
    "    .option(\"driver\", \"org.postgresql.Driver\") \\\n",
    "    .mode(\"append\") \\\n",
    "    .save()\n",
    "  print(\"Wrote to table succesfully\")\n",
    "except Exception as e:\n",
    "  print(\"Writing to table failed: \", e)"
   ]
  }
 ],
 "metadata": {
  "kernelspec": {
   "display_name": ".venv",
   "language": "python",
   "name": "python3"
  },
  "language_info": {
   "codemirror_mode": {
    "name": "ipython",
    "version": 3
   },
   "file_extension": ".py",
   "mimetype": "text/x-python",
   "name": "python",
   "nbconvert_exporter": "python",
   "pygments_lexer": "ipython3",
   "version": "3.13.5"
  }
 },
 "nbformat": 4,
 "nbformat_minor": 5
}
