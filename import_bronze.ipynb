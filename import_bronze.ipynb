{
 "cells": [
  {
   "cell_type": "markdown",
   "metadata": {},
   "source": [
    "The main purpose of this file is to import files to the bronze layer without any data editing. Thus the raw data will be stored in JSON format in the bronze folder."
   ]
  },
  {
   "cell_type": "markdown",
   "metadata": {},
   "source": [
    "# 1. Importing libraries and setting API keys/credentials"
   ]
  },
  {
   "cell_type": "markdown",
   "metadata": {},
   "source": [
    "The pipeline uses the following data sources:\n",
    "+ **Norwegian MET**, which provided weather data for Norway and Sweden, for API key registration please visit [here](https://frost.met.no/authentication.html), _please note that you will be provided both a credential key and a secret key, however you only need the credential key_.\n",
    "+ **Danish DMI**, which provide weather data for Denmark, for API key registration please visit [here](https://opendatadocs.dmi.govcloud.dk/en/Authentication).\n",
    "\n",
    "Both pages are in english and is supplied with great documentation including swagger."
   ]
  },
  {
   "cell_type": "code",
   "execution_count": null,
   "metadata": {},
   "outputs": [],
   "source": [
    "from dotenv import load_dotenv\n",
    "import os\n",
    "from datetime import datetime, timedelta\n",
    "import requests\n",
    "from requests.auth import HTTPBasicAuth\n",
    "from math import ceil\n",
    "import json\n",
    "\n",
    "#loading API keys from env-file, remember to rename .env_sample and type in API keys\n",
    "load_dotenv()\n",
    "client_cred_frost = os.getenv('FROST_CLIENT_CREDENTIAL') # importing Frost API key\n",
    "client_cred_dmi = os.getenv('DMI_API_KEY') # importing DMI API key"
   ]
  },
  {
   "cell_type": "markdown",
   "metadata": {},
   "source": [
    "# 2. Gathering data"
   ]
  },
  {
   "cell_type": "code",
   "execution_count": 2,
   "metadata": {},
   "outputs": [],
   "source": [
    "#function for timestamps, takes input date (datetime) as well as time lag for creating intervals with days in the past e.g. yesterday till today\n",
    "def get_date(input_date, timelag):\n",
    "        timestamp = input_date - timedelta(days=timelag)\n",
    "        return timestamp.strftime(\"%Y-%m-%d\") # output in format required by the Frost met API\n",
    "\n",
    "# Using client credentials from .env file, remember to rename env_sample file\n",
    "auth = HTTPBasicAuth(client_cred_frost, \"\") \n"
   ]
  },
  {
   "cell_type": "markdown",
   "metadata": {},
   "source": [
    "## 2.1. Frost met data"
   ]
  },
  {
   "cell_type": "markdown",
   "metadata": {},
   "source": [
    "When requesting the Frost met data for the weather stations you have to provide the station id. Thus the first request `https://frost.met.no/sources/v0.jsonld` is for all stations ids, and the next `https://frost.met.no/observations/v0.jsonld?` is detailed information for the stations ids acquired. The URIs are limited, hence why the batches are needed."
   ]
  },
  {
   "cell_type": "code",
   "execution_count": 3,
   "metadata": {},
   "outputs": [],
   "source": [
    "# get full list of weather stations\n",
    "bronze_file_path = str(os.getcwd())+\"/bronze/\" # getting bronze layer file path\n",
    "frost_file_path = bronze_file_path + '/frost/'\n",
    "timestamp = get_date(datetime.today(), 0) +'T12' # for params and archiving name\n",
    "timestamp_period_last24h = str(get_date(datetime.today(), 1))+'/'+str(get_date(datetime.today(), 0))\n",
    "os.makedirs(\"bronze/frost/\"+str(timestamp), exist_ok=True)\n",
    "file_name_ids = 'frostStations_'+str(timestamp)+'_gathered_'+str(datetime.today().strftime(\"%Y-%m-%d\"))+'.json'\n",
    "\n",
    "url = f'https://frost.met.no/sources/v0.jsonld'\n",
    "# will have to implement error handling\n",
    "response = requests.get(url, auth=auth)\n",
    "sources = []\n",
    "with open(frost_file_path+file_name_ids, \"w\") as f:\n",
    "    json.dump(response.json(), f, indent=2)\n",
    "for i in response.json()['data']:\n",
    "    if i['id'].startswith('SN'): # some ids are not accepted as parameters in the following GET requests, only IDs that starts with SN are\n",
    "        sources.append(i['id'])\n",
    "#get all data for each id in batches\n",
    "url = 'https://frost.met.no/observations/v0.jsonld?sources={}&referencetime={}&elements={}'\n",
    "#if folder for yesterday doesn't exist in bronze layer, create one\n",
    "timestamp_dir = 'bronze/frost/'+str(timestamp)+'/'\n",
    "element = 'air_temperature' # only need api information for air temp\n",
    "batch_counter = 1 # for file saving\n",
    "batch_size = 200  # adjust to stay under URI limits\n",
    "for i in range(ceil(len(sources) / batch_size)):\n",
    "    batch = sources[i * batch_size:(i + 1) * batch_size]\n",
    "    sources_param = \",\".join(batch)\n",
    "    response = requests.get(url.format(sources_param, timestamp_period_last24h, element), auth=auth) \n",
    "    file_name = 'frostMetAirTemperature_'+str(timestamp)+'_batch_'+str(batch_counter)+'_gathered_'+str(datetime.today().strftime(\"%Y-%m-%d\"))+'.json'\n",
    "    with open(timestamp_dir+file_name, \"w\") as f:\n",
    "        json.dump(response.json(), f, indent=2)\n",
    "    batch_counter += 1\n",
    " \n"
   ]
  },
  {
   "cell_type": "markdown",
   "metadata": {},
   "source": [
    "## 2.2. DMI data"
   ]
  },
  {
   "cell_type": "markdown",
   "metadata": {},
   "source": [
    "Unlike the Frost met data, we don't need to request with ids in order to get the weather readings using `https://dmigw.govcloud.dk/v2/metObs/collections/observation/items`. However, due to data conformance the station details are still requested and collected using `https://dmigw.govcloud.dk/v2/metObs/collections/station/items`. This data could also be used for data aggregations and thus can prove to be useful"
   ]
  },
  {
   "cell_type": "code",
   "execution_count": 4,
   "metadata": {},
   "outputs": [],
   "source": [
    "# get full list of weather stations\n",
    "bronze_file_path = str(os.getcwd())+\"/bronze/\" # getting bronze layer file path\n",
    "dmi_file_path = bronze_file_path + 'dmi/'\n",
    "timestamp_dmi_start = get_date(datetime.today(), 1) + 'T12%3A00%3A00Z' # get the date yesterday\n",
    "timestamp_dmi_end = get_date(datetime.today(), 0) + 'T12%3A00%3A00Z' # get the day today\n",
    "timestamp_full = timestamp_dmi_start + '%2F' + timestamp_dmi_end\n",
    "url = f'https://dmigw.govcloud.dk/v2/metObs/collections/station/items?datetime={timestamp_dmi_start}%2F{timestamp_dmi_end}&bbox-crs=https%3A%2F%2Fwww.opengis.net%2Fdef%2Fcrs%2FOGC%2F1.3%2FCRS84&api-key={client_cred_dmi}'\n",
    "os.makedirs(\"bronze/dmi/\"+str(timestamp), exist_ok=True)\n",
    "file_name_ids = 'dmiStations_'+str(timestamp)+'_gathered_'+str(datetime.today().strftime(\"%Y-%m-%d\"))+'.json'\n",
    "# will have to implement error handling\n",
    "response = requests.get(url.format(client_cred_dmi))\n",
    "sources = []\n",
    "with open(dmi_file_path+file_name_ids, \"w\") as f:\n",
    "    json.dump(response.json(), f, indent=2)\n",
    "\n",
    "url = 'https://dmigw.govcloud.dk/v2/metObs/collections/observation/items?period=latest-day&parameterId=temp_dry&bbox-crs=https%3A%2F%2Fwww.opengis.net%2Fdef%2Fcrs%2FOGC%2F1.3%2FCRS84&api-key={}'\n",
    "#get all data for the latest day no need for batches due to data structure of API, this is really just a copy of the above\n",
    "timestamp_dir = 'bronze/dmi/'+str(timestamp)+'/'\n",
    "batch_counter = 1 \n",
    "response = requests.get(url.format(client_cred_dmi), auth=auth) \n",
    "file_name = 'dmiAirTemperature_'+str(timestamp)+'_batch_'+str(batch_counter)+'_gathered_'+str(datetime.today().strftime(\"%Y-%m-%d\"))+'.json'\n",
    "with open(timestamp_dir+file_name, \"w\") as f:\n",
    "    json.dump(response.json(), f, indent=2)"
   ]
  }
 ],
 "metadata": {
  "kernelspec": {
   "display_name": ".venv",
   "language": "python",
   "name": "python3"
  },
  "language_info": {
   "codemirror_mode": {
    "name": "ipython",
    "version": 3
   },
   "file_extension": ".py",
   "mimetype": "text/x-python",
   "name": "python",
   "nbconvert_exporter": "python",
   "pygments_lexer": "ipython3",
   "version": "3.13.5"
  }
 },
 "nbformat": 4,
 "nbformat_minor": 2
}
